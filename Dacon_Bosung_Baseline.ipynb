{
  "cells": [
    {
      "cell_type": "markdown",
      "metadata": {
        "id": "view-in-github",
        "colab_type": "text"
      },
      "source": [
        "<a href=\"https://colab.research.google.com/github/Barleysack/DaconRepo/blob/main/Dacon_Bosung_Baseline.ipynb\" target=\"_parent\"><img src=\"https://colab.research.google.com/assets/colab-badge.svg\" alt=\"Open In Colab\"/></a>"
      ]
    },
    {
      "cell_type": "code",
      "execution_count": null,
      "metadata": {
        "id": "gNNg_sex39Dc"
      },
      "outputs": [],
      "source": [
        "from google.colab import drive\n",
        "drive.mount('/content/gdrive/')\n",
        "!pip install transformers"
      ]
    },
    {
      "cell_type": "code",
      "execution_count": 2,
      "metadata": {
        "id": "UbaFlR9-3vEN"
      },
      "outputs": [],
      "source": [
        "import pandas as pd\n",
        "from glob import glob\n",
        "import os\n",
        "os.environ['CUDA_LAUNCH_BLOCKING'] = \"1\"\n",
        "os.environ[\"CUDA_VISIBLE_DEVICES\"] = \"0\"\n",
        "import numpy as np\n",
        "from tqdm import tqdm, tqdm_notebook\n",
        "import re\n",
        "import torch\n",
        "from torch import nn\n",
        "import torch.optim as optim\n",
        "from torch.utils.data import Dataset, DataLoader\n",
        "import numpy as np\n",
        "import pandas as pd\n",
        "from transformers import pipeline, AutoTokenizer ,AutoModelForSequenceClassification,AutoConfig,Trainer,TrainingArguments , AutoModel\n",
        "from tqdm import tqdm\n",
        "from torch.utils.data import DataLoader\n",
        "from transformers import AdamW"
      ]
    },
    {
      "cell_type": "code",
      "execution_count": 3,
      "metadata": {
        "id": "p0ZVLx4T3Dm7"
      },
      "outputs": [],
      "source": [
        "data_path = '/content/gdrive/MyDrive/Data'\n",
        "train= pd.read_csv(os.path.join(data_path,'train_data.csv'))\n",
        "test = pd.read_csv(os.path.join(data_path,'test_data.csv'))\n"
      ]
    },
    {
      "cell_type": "code",
      "execution_count": 4,
      "metadata": {
        "colab": {
          "base_uri": "https://localhost:8080/",
          "height": 206
        },
        "id": "xyqc_sHl3LqF",
        "outputId": "31fb5be6-fa75-4bc8-bfad-7302ee7a1ddf"
      },
      "outputs": [
        {
          "output_type": "execute_result",
          "data": {
            "text/html": [
              "\n",
              "  <div id=\"df-20dd979a-353f-423a-b81b-86046396c4eb\">\n",
              "    <div class=\"colab-df-container\">\n",
              "      <div>\n",
              "<style scoped>\n",
              "    .dataframe tbody tr th:only-of-type {\n",
              "        vertical-align: middle;\n",
              "    }\n",
              "\n",
              "    .dataframe tbody tr th {\n",
              "        vertical-align: top;\n",
              "    }\n",
              "\n",
              "    .dataframe thead th {\n",
              "        text-align: right;\n",
              "    }\n",
              "</style>\n",
              "<table border=\"1\" class=\"dataframe\">\n",
              "  <thead>\n",
              "    <tr style=\"text-align: right;\">\n",
              "      <th></th>\n",
              "      <th>index</th>\n",
              "      <th>premise</th>\n",
              "      <th>hypothesis</th>\n",
              "      <th>label</th>\n",
              "    </tr>\n",
              "  </thead>\n",
              "  <tbody>\n",
              "    <tr>\n",
              "      <th>0</th>\n",
              "      <td>0</td>\n",
              "      <td>씨름은 상고시대로부터 전해져 내려오는 남자들의 대표적인 놀이로서, 소년이나 장정들이...</td>\n",
              "      <td>씨름의 여자들의 놀이이다.</td>\n",
              "      <td>contradiction</td>\n",
              "    </tr>\n",
              "    <tr>\n",
              "      <th>1</th>\n",
              "      <td>1</td>\n",
              "      <td>삼성은 자작극을 벌인 2명에게 형사 고소 등의 법적 대응을 검토 중이라고 하였으나,...</td>\n",
              "      <td>자작극을 벌인 이는 3명이다.</td>\n",
              "      <td>contradiction</td>\n",
              "    </tr>\n",
              "    <tr>\n",
              "      <th>2</th>\n",
              "      <td>2</td>\n",
              "      <td>이를 위해 예측적 범죄예방 시스템을 구축하고 고도화한다.</td>\n",
              "      <td>예측적 범죄예방 시스템 구축하고 고도화하는 것은 목적이 있기 때문이다.</td>\n",
              "      <td>entailment</td>\n",
              "    </tr>\n",
              "    <tr>\n",
              "      <th>3</th>\n",
              "      <td>3</td>\n",
              "      <td>광주광역시가 재개발 정비사업 원주민들에 대한 종합대책을 마련하는 등 원주민 보호에 ...</td>\n",
              "      <td>원주민들은 종합대책에 만족했다.</td>\n",
              "      <td>neutral</td>\n",
              "    </tr>\n",
              "    <tr>\n",
              "      <th>4</th>\n",
              "      <td>4</td>\n",
              "      <td>진정 소비자와 직원들에게 사랑 받는 기업으로 오래 지속되고 싶으면, 이런 상황에서는...</td>\n",
              "      <td>이런 상황에서 책임 있는 모습을 보여주는 기업은 아주 드물다.</td>\n",
              "      <td>neutral</td>\n",
              "    </tr>\n",
              "  </tbody>\n",
              "</table>\n",
              "</div>\n",
              "      <button class=\"colab-df-convert\" onclick=\"convertToInteractive('df-20dd979a-353f-423a-b81b-86046396c4eb')\"\n",
              "              title=\"Convert this dataframe to an interactive table.\"\n",
              "              style=\"display:none;\">\n",
              "        \n",
              "  <svg xmlns=\"http://www.w3.org/2000/svg\" height=\"24px\"viewBox=\"0 0 24 24\"\n",
              "       width=\"24px\">\n",
              "    <path d=\"M0 0h24v24H0V0z\" fill=\"none\"/>\n",
              "    <path d=\"M18.56 5.44l.94 2.06.94-2.06 2.06-.94-2.06-.94-.94-2.06-.94 2.06-2.06.94zm-11 1L8.5 8.5l.94-2.06 2.06-.94-2.06-.94L8.5 2.5l-.94 2.06-2.06.94zm10 10l.94 2.06.94-2.06 2.06-.94-2.06-.94-.94-2.06-.94 2.06-2.06.94z\"/><path d=\"M17.41 7.96l-1.37-1.37c-.4-.4-.92-.59-1.43-.59-.52 0-1.04.2-1.43.59L10.3 9.45l-7.72 7.72c-.78.78-.78 2.05 0 2.83L4 21.41c.39.39.9.59 1.41.59.51 0 1.02-.2 1.41-.59l7.78-7.78 2.81-2.81c.8-.78.8-2.07 0-2.86zM5.41 20L4 18.59l7.72-7.72 1.47 1.35L5.41 20z\"/>\n",
              "  </svg>\n",
              "      </button>\n",
              "      \n",
              "  <style>\n",
              "    .colab-df-container {\n",
              "      display:flex;\n",
              "      flex-wrap:wrap;\n",
              "      gap: 12px;\n",
              "    }\n",
              "\n",
              "    .colab-df-convert {\n",
              "      background-color: #E8F0FE;\n",
              "      border: none;\n",
              "      border-radius: 50%;\n",
              "      cursor: pointer;\n",
              "      display: none;\n",
              "      fill: #1967D2;\n",
              "      height: 32px;\n",
              "      padding: 0 0 0 0;\n",
              "      width: 32px;\n",
              "    }\n",
              "\n",
              "    .colab-df-convert:hover {\n",
              "      background-color: #E2EBFA;\n",
              "      box-shadow: 0px 1px 2px rgba(60, 64, 67, 0.3), 0px 1px 3px 1px rgba(60, 64, 67, 0.15);\n",
              "      fill: #174EA6;\n",
              "    }\n",
              "\n",
              "    [theme=dark] .colab-df-convert {\n",
              "      background-color: #3B4455;\n",
              "      fill: #D2E3FC;\n",
              "    }\n",
              "\n",
              "    [theme=dark] .colab-df-convert:hover {\n",
              "      background-color: #434B5C;\n",
              "      box-shadow: 0px 1px 3px 1px rgba(0, 0, 0, 0.15);\n",
              "      filter: drop-shadow(0px 1px 2px rgba(0, 0, 0, 0.3));\n",
              "      fill: #FFFFFF;\n",
              "    }\n",
              "  </style>\n",
              "\n",
              "      <script>\n",
              "        const buttonEl =\n",
              "          document.querySelector('#df-20dd979a-353f-423a-b81b-86046396c4eb button.colab-df-convert');\n",
              "        buttonEl.style.display =\n",
              "          google.colab.kernel.accessAllowed ? 'block' : 'none';\n",
              "\n",
              "        async function convertToInteractive(key) {\n",
              "          const element = document.querySelector('#df-20dd979a-353f-423a-b81b-86046396c4eb');\n",
              "          const dataTable =\n",
              "            await google.colab.kernel.invokeFunction('convertToInteractive',\n",
              "                                                     [key], {});\n",
              "          if (!dataTable) return;\n",
              "\n",
              "          const docLinkHtml = 'Like what you see? Visit the ' +\n",
              "            '<a target=\"_blank\" href=https://colab.research.google.com/notebooks/data_table.ipynb>data table notebook</a>'\n",
              "            + ' to learn more about interactive tables.';\n",
              "          element.innerHTML = '';\n",
              "          dataTable['output_type'] = 'display_data';\n",
              "          await google.colab.output.renderOutput(dataTable, element);\n",
              "          const docLink = document.createElement('div');\n",
              "          docLink.innerHTML = docLinkHtml;\n",
              "          element.appendChild(docLink);\n",
              "        }\n",
              "      </script>\n",
              "    </div>\n",
              "  </div>\n",
              "  "
            ],
            "text/plain": [
              "   index  ...          label\n",
              "0      0  ...  contradiction\n",
              "1      1  ...  contradiction\n",
              "2      2  ...     entailment\n",
              "3      3  ...        neutral\n",
              "4      4  ...        neutral\n",
              "\n",
              "[5 rows x 4 columns]"
            ]
          },
          "metadata": {},
          "execution_count": 4
        }
      ],
      "source": [
        "train.head()"
      ]
    },
    {
      "cell_type": "code",
      "execution_count": 5,
      "metadata": {
        "colab": {
          "base_uri": "https://localhost:8080/"
        },
        "id": "yd63oNwT4wNl",
        "outputId": "f0fe9878-186d-42e5-88ab-cc2e04575a49"
      },
      "outputs": [
        {
          "output_type": "stream",
          "name": "stdout",
          "text": [
            "실제 Text 평균 길이 : 45.406552524201935\n",
            "가설 Text 평균 길이 : 24.924433954716378\n",
            "최대 실제 텍스트 길이 :  90\n",
            "최대 가설 텍스트 길이 :  103\n"
          ]
        }
      ],
      "source": [
        "premise_len_mean = np.mean(train['premise'].str.len()) # 리뷰 길이의 평균값 계산\n",
        "print('실제 Text 평균 길이 :',premise_len_mean)\n",
        "\n",
        "hypo_len_mean = np.mean(train['hypothesis'].str.len()) # 리뷰 길이의 평균값 계산\n",
        "print('가설 Text 평균 길이 :',hypo_len_mean)\n",
        "\n",
        "max_prem_len = np.max(train['premise'].str.len())\n",
        "print('최대 실제 텍스트 길이 : ', max_prem_len)\n",
        "\n",
        "max_hypo_len = np.max(train['hypothesis'].str.len())\n",
        "print('최대 가설 텍스트 길이 : ', max_hypo_len)"
      ]
    },
    {
      "cell_type": "code",
      "execution_count": 6,
      "metadata": {
        "id": "lZ7lhdSM5G4y"
      },
      "outputs": [],
      "source": [
        "max_seq_len = 120\n",
        "batch_size = 128\n",
        "warmup_ratio = 0.1\n",
        "num_epochs = 3\n",
        "max_grad_norm = 1\n",
        "log_interval = 200\n",
        "learning_rate = 1e-5\n",
        "model_name = \"Huffon/klue-roberta-base-nli\"\n",
        "device = torch.device(\"cuda:0\")\n",
        "## 베이스라인 설정. 최대 길이만 변경해뒀습니다"
      ]
    },
    {
      "cell_type": "code",
      "execution_count": 7,
      "metadata": {
        "id": "aKkf4zUgk6fo"
      },
      "outputs": [],
      "source": [
        "class TorchDataset(Dataset):\n",
        "  def __init__(self,premise,hypothesis,labels,tokenizer):\n",
        "    premise = self.clean_text(premise)\n",
        "    hypothesis = self.clean_text(hypothesis)\n",
        "    self.len=len(premise)\n",
        "    label2idx={key:value for value,key in enumerate(self.get_label_list())}\n",
        "    self.labels=[label2idx[label] for label in labels]\n",
        "    self.encodings = tokenizer(premise,hypothesis, add_special_tokens = True , return_tensors = 'pt', padding = True, truncation = True, max_length = max_seq_len)\n",
        "\n",
        "  def __len__(self):\n",
        "    return self.len\n",
        "    \n",
        "  def __getitem__(self,idx):\n",
        "    item = {key: val[idx] for key,val in self.encodings.items()} \n",
        "    item['labels'] = self.labels[idx]\n",
        "    return item\n",
        "\n",
        "  def clean_text(self,series):\n",
        "    return [self.clean(sent) for sent in series]\n",
        "\n",
        "  def clean(self,sent):\n",
        "    sent = re.sub('\\u00A0',' ',sent)\n",
        "    sent = re.sub(' +',' ',sent)\n",
        "    return sent\n",
        "\n",
        "  def get_data(self):\n",
        "    return self.labels\n",
        "  \n",
        "  def get_label_list(self):\n",
        "    return ['entailment','neutral','contradiction']\n",
        "\n"
      ]
    },
    {
      "cell_type": "code",
      "execution_count": null,
      "metadata": {
        "id": "zwlNuISwo3c0"
      },
      "outputs": [],
      "source": [
        "tokenizer = AutoTokenizer.from_pretrained(model_name)\n",
        "train_dataset = TorchDataset(train['premise'],train['hypothesis'],train['label'],tokenizer)\n",
        "model_config = AutoConfig.from_pretrained(model_name)\n",
        "model_config.num_labels = 3\n",
        "model = AutoModelForSequenceClassification.from_pretrained(model_name , config=model_config)"
      ]
    },
    {
      "cell_type": "code",
      "execution_count": null,
      "metadata": {
        "id": "uH1c_CbFgaFK"
      },
      "outputs": [],
      "source": [
        "model.to('cuda:0')\n",
        "print(\"model preparation done\")"
      ]
    },
    {
      "cell_type": "code",
      "execution_count": 10,
      "metadata": {
        "id": "rQLz-7LLD1Gw"
      },
      "outputs": [],
      "source": [
        "train_dataloader = DataLoader(\n",
        "    dataset = train_dataset,\n",
        "    pin_memory = (torch.cuda.is_available()),\n",
        "    shuffle=True,\n",
        "    batch_size=batch_size,\n",
        "    num_workers = 4,\n",
        "    drop_last = True\n",
        ")\n",
        "criterion = nn.CrossEntropyLoss()\n",
        "optimizer = optim.SGD(model.parameters(), lr=learning_rate, momentum=0.9)\n",
        "scheduler = optim.lr_scheduler.CosineAnnealingLR(optimizer=optimizer,\n",
        "                                                     T_max=10,\n",
        "                                                     eta_min=0.001)"
      ]
    },
    {
      "cell_type": "code",
      "execution_count": 11,
      "metadata": {
        "colab": {
          "base_uri": "https://localhost:8080/"
        },
        "id": "10relu6-9VQm",
        "outputId": "a7fbe63e-c6c3-4aa7-c14c-cad3f0554d8f"
      },
      "outputs": [
        {
          "output_type": "stream",
          "name": "stderr",
          "text": [
            "100%|██████████| 195/195 [06:16<00:00,  1.93s/it, Running accuracy=0.98, Running Loss=0.119]\n",
            "100%|██████████| 195/195 [06:27<00:00,  1.99s/it, Running accuracy=0.982, Running Loss=0.0279]\n",
            "100%|██████████| 195/195 [06:27<00:00,  1.99s/it, Running accuracy=0.988, Running Loss=0.124]\n"
          ]
        }
      ],
      "source": [
        "def train_loop(model,num_epochs,train_dataloader):\n",
        "    for epoch in range(num_epochs):\n",
        "\n",
        "        run_count = 0\n",
        "        avg_loss = 0\n",
        "\n",
        "        running_loss, correct, total = 0.0, 0,0\n",
        "        preds, gt = [], []\n",
        "        pbar = tqdm(enumerate(train_dataloader), total=len(train_dataloader))\n",
        "        model.train()\n",
        "\n",
        "        for batch, data in pbar:\n",
        "            \n",
        "            labels = data['labels'].to(\"cuda:0\")\n",
        "            data['attention_mask'] = data['attention_mask'].to(device)\n",
        "            data['input_ids'] = data['input_ids'].to(device)\n",
        "            data['token_type_ids'] = data['token_type_ids'].to(device)\n",
        "            outputs = model(input_ids = data['input_ids'],attention_mask = data['attention_mask']                            \n",
        "                            )\n",
        "            loss = criterion(outputs.logits, labels) \n",
        "            \n",
        "        \n",
        "            optimizer.zero_grad()\n",
        "\n",
        "            loss.backward()\n",
        "            optimizer.step()\n",
        "            scheduler.step()\n",
        "\n",
        "            _, pred = torch.max(outputs.logits, 1)\n",
        "            total += labels.size(0)\n",
        "            \n",
        "            correct += (pred == labels).sum().item()\n",
        "            preds += pred.to(\"cpu\").tolist()\n",
        "            gt += labels.to(\"cpu\").tolist()\n",
        "            pbar.set_postfix({\"Running accuracy\" : correct/total, \"Running Loss\" : loss.item()})\n",
        "            running_loss += loss.item()\n",
        "            run_count +=1\n",
        "            \n",
        "                \n",
        "        \n",
        "\n",
        "    return model\n",
        "model = train_loop(model,num_epochs,train_dataloader)"
      ]
    },
    {
      "cell_type": "code",
      "execution_count": 12,
      "metadata": {
        "id": "ciivC6VZ-Eb9"
      },
      "outputs": [],
      "source": [
        "class TestDataset(Dataset):\n",
        "  def __init__(self,premise,hypothesis,tokenizer):\n",
        "    premise = self.clean_text(premise)\n",
        "    hypothesis = self.clean_text(hypothesis)\n",
        "    self.len=len(premise)\n",
        "    label2idx={key:value for value,key in enumerate(self.get_label_list())}\n",
        "    self.encodings = tokenizer(premise,hypothesis, add_special_tokens = True , return_tensors = 'pt', padding = True, truncation = True, max_length = 120)\n",
        "\n",
        "  def __len__(self):\n",
        "    return self.len\n",
        "    \n",
        "  def __getitem__(self,idx):\n",
        "    item = {key: val[idx] for key,val in self.encodings.items()}\n",
        "    return item\n",
        "\n",
        "  def clean_text(self,series):\n",
        "    return [self.clean(sent) for sent in series]\n",
        "\n",
        "  def clean(self,sent):\n",
        "    sent = re.sub('\\u00A0',' ',sent)\n",
        "    sent = re.sub(' +',' ',sent)\n",
        "    return sent\n",
        "  \n",
        "  def get_label_list(self):\n",
        "    return ['entailment','neutral','contradiction']"
      ]
    },
    {
      "cell_type": "code",
      "source": [
        "torch.cuda.empty_cache()"
      ],
      "metadata": {
        "id": "vm2aZcpDiFuS"
      },
      "execution_count": 27,
      "outputs": []
    },
    {
      "cell_type": "code",
      "execution_count": 28,
      "metadata": {
        "id": "jqaCFcrX5fgH",
        "colab": {
          "base_uri": "https://localhost:8080/"
        },
        "outputId": "1c64583e-a526-4844-c2f4-bc514d924ddd"
      },
      "outputs": [
        {
          "output_type": "execute_result",
          "data": {
            "text/plain": [
              "1666"
            ]
          },
          "metadata": {},
          "execution_count": 28
        }
      ],
      "source": [
        "\n",
        "test_dataset = TestDataset(test['premise'],test['hypothesis'],tokenizer)\n",
        "\n",
        "\n",
        "test_dataloader = DataLoader(\n",
        "    dataset = test_dataset,\n",
        "    pin_memory = (torch.cuda.is_available()),\n",
        "    shuffle=False,\n",
        "    batch_size=1,\n",
        "    num_workers = 4,\n",
        "    drop_last = False\n",
        ")\n",
        "len(test_dataloader)"
      ]
    },
    {
      "cell_type": "code",
      "execution_count": null,
      "metadata": {
        "id": "IFZLO2fS576g"
      },
      "outputs": [],
      "source": [
        "predictions = []\n",
        "logits_savings = []\n",
        "count = 0\n",
        "submission = pd.read_csv(os.path.join(data_path,'sample_submission.csv'))\n",
        "\n",
        "idx2label = {0:'entailment',1:'neutral',2:'contradiction'}\n",
        "for idx,data in tqdm(enumerate(test_dataloader)):\n",
        "    data['attention_mask'] = data['attention_mask'].to(device)\n",
        "    data['input_ids'] = data['input_ids'].to(device)\n",
        "    data['token_type_ids'] = data['token_type_ids'].to(device)\n",
        "    # print(data['input_ids'][0])\n",
        "    outputs = model(input_ids = data['input_ids'],attention_mask = data['attention_mask']\n",
        "                    #,token_type_ids = data['token_type_ids']\n",
        "                    )\n",
        "    \n",
        "    pred = torch.argmax(outputs.logits,dim=1)\n",
        "    pred = [idx2label[i.item()] for i in pred]\n",
        "    predictions+=pred\n",
        "print(predictions)\n"
      ]
    },
    {
      "cell_type": "code",
      "execution_count": null,
      "metadata": {
        "id": "XwEtmKIy_aNn"
      },
      "outputs": [],
      "source": [
        "submission[\"label\"] = predictions"
      ]
    },
    {
      "cell_type": "code",
      "execution_count": 24,
      "metadata": {
        "id": "5mIIRXZxONgM"
      },
      "outputs": [],
      "source": [
        "submission.to_csv(\"/content/gdrive/MyDrive/Data/submissions/FINETUNE_03.csv\", index = False)"
      ]
    },
    {
      "cell_type": "code",
      "execution_count": 18,
      "metadata": {
        "id": "2x5idqnYOOs8",
        "colab": {
          "base_uri": "https://localhost:8080/"
        },
        "outputId": "c9a1a00e-4a02-4336-96b6-a6f5bcdc86d1"
      },
      "outputs": [
        {
          "output_type": "execute_result",
          "data": {
            "text/plain": [
              "Counter({'contradiction': 513, 'entailment': 519, 'neutral': 634})"
            ]
          },
          "metadata": {},
          "execution_count": 18
        }
      ],
      "source": [
        "_from collections import Counter\n",
        "Counter(test_frame['label'])"
      ]
    }
  ],
  "metadata": {
    "accelerator": "GPU",
    "colab": {
      "machine_shape": "hm",
      "name": "Dacon_RC.ipynb",
      "provenance": [],
      "collapsed_sections": [],
      "authorship_tag": "ABX9TyPWu/9qdGH+qcFtXOn95xhF",
      "include_colab_link": true
    },
    "kernelspec": {
      "display_name": "Python 3",
      "name": "python3"
    },
    "language_info": {
      "name": "python"
    }
  },
  "nbformat": 4,
  "nbformat_minor": 0
}