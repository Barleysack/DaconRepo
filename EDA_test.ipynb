{
  "nbformat": 4,
  "nbformat_minor": 0,
  "metadata": {
    "colab": {
      "name": "EDA_test.ipynb",
      "provenance": [],
      "authorship_tag": "ABX9TyNKEG1AAfLOtQFqJBbnrtAB",
      "include_colab_link": true
    },
    "kernelspec": {
      "name": "python3",
      "display_name": "Python 3"
    },
    "language_info": {
      "name": "python"
    }
  },
  "cells": [
    {
      "cell_type": "markdown",
      "metadata": {
        "id": "view-in-github",
        "colab_type": "text"
      },
      "source": [
        "<a href=\"https://colab.research.google.com/github/Barleysack/DaconRepo/blob/main/EDA_test.ipynb\" target=\"_parent\"><img src=\"https://colab.research.google.com/assets/colab-badge.svg\" alt=\"Open In Colab\"/></a>"
      ]
    },
    {
      "cell_type": "code",
      "execution_count": null,
      "metadata": {
        "id": "YqZk7Kedy4M9"
      },
      "outputs": [],
      "source": [
        "!pip install koeda"
      ]
    },
    {
      "cell_type": "code",
      "source": [
        "!apt-get install g++ openjdk-8-jdk python3-dev python3-pip curl\n",
        "!python3 -m pip install --upgrade pip\n",
        "!python3 -m pip install konlpy\n",
        "!apt-get install curl git\n",
        "!bash <(curl -s https://raw.githubusercontent.com/konlpy/konlpy/master/scripts/mecab.sh)"
      ],
      "metadata": {
        "id": "U56tuwAHy8lr"
      },
      "execution_count": null,
      "outputs": []
    },
    {
      "cell_type": "code",
      "source": [
        "from koeda import EDA\n",
        "test_sentence = \"그의 대학원 생활은 언제까지 이어질지 아무도 모른다고 한다.\"\n",
        "eda_test = EDA(morpheme_analyzer=\"Mecab\", alpha_sr=0.3, alpha_ri=0.0, alpha_rs=0.1, prob_rd=0.2)\n",
        "print(eda_test(test_sentence))"
      ],
      "metadata": {
        "colab": {
          "base_uri": "https://localhost:8080/"
        },
        "id": "4PjF5sm1zIpQ",
        "outputId": "edfff41d-2d10-4511-9109-78a9b8e1690b"
      },
      "execution_count": 9,
      "outputs": [
        {
          "output_type": "stream",
          "name": "stdout",
          "text": [
            "그연줄 대학원 생활은 언제까지 이어질지 아무도 모른다고 한다.\n"
          ]
        }
      ]
    },
    {
      "cell_type": "code",
      "source": [
        "eda_test(\"한 잔은 떠나간 너를 위하여, 한 잔은 너와 나의 영원했던 사랑을 위하여, 한 잔은 이미 초라해진 나를 위하여.\")"
      ],
      "metadata": {
        "colab": {
          "base_uri": "https://localhost:8080/",
          "height": 35
        },
        "id": "-mgfzoyyzYjD",
        "outputId": "4c941c74-6a2f-447f-ceb5-8aa8835a4443"
      },
      "execution_count": 10,
      "outputs": [
        {
          "output_type": "execute_result",
          "data": {
            "application/vnd.google.colaboratory.intrinsic+json": {
              "type": "string"
            },
            "text/plain": [
              "'한 한도 잔은 떠나간 너를 위하여, 한 잔은 너와 나의 영원했던 사랑을 위하여, 한 잔은 이미 초라해진 나를 위하여.'"
            ]
          },
          "metadata": {},
          "execution_count": 10
        }
      ]
    },
    {
      "cell_type": "code",
      "source": [
        ""
      ],
      "metadata": {
        "id": "7yxNIhK70ZIr"
      },
      "execution_count": null,
      "outputs": []
    }
  ]
}